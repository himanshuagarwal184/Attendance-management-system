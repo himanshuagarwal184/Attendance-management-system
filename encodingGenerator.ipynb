{
 "cells": [
  {
   "cell_type": "code",
   "execution_count": 5,
   "metadata": {},
   "outputs": [],
   "source": [
    "import cv2\n",
    "import face_recognition\n",
    "import os\n",
    "import numpy as np\n",
    "import pickle\n",
    "import firebase_admin\n",
    "from firebase_admin import credentials\n",
    "from firebase_admin import db\n",
    "from firebase_admin import storage"
   ]
  },
  {
   "cell_type": "code",
   "execution_count": 9,
   "metadata": {},
   "outputs": [
    {
     "ename": "ValueError",
     "evalue": "The default Firebase app already exists. This means you called initialize_app() more than once without providing an app name as the second argument. In most cases you only need to call initialize_app() once. But if you do want to initialize multiple apps, pass a second argument to initialize_app() to give each app a unique name.",
     "output_type": "error",
     "traceback": [
      "\u001b[1;31m---------------------------------------------------------------------------\u001b[0m",
      "\u001b[1;31mValueError\u001b[0m                                Traceback (most recent call last)",
      "\u001b[1;32mc:\\Users\\himan\\OneDrive\\Desktop\\python\\Machine Learning\\Deep Learning\\attendence_project\\encodingGenerator.ipynb Cell 2\u001b[0m line \u001b[0;36m2\n\u001b[0;32m      <a href='vscode-notebook-cell:/c%3A/Users/himan/OneDrive/Desktop/python/Machine%20Learning/Deep%20Learning/attendence_project/encodingGenerator.ipynb#X11sZmlsZQ%3D%3D?line=0'>1</a>\u001b[0m cred \u001b[39m=\u001b[39m credentials\u001b[39m.\u001b[39mCertificate(\u001b[39mr\u001b[39m\u001b[39m\"\u001b[39m\u001b[39mC:\u001b[39m\u001b[39m\\\u001b[39m\u001b[39mUsers\u001b[39m\u001b[39m\\\u001b[39m\u001b[39mhiman\u001b[39m\u001b[39m\\\u001b[39m\u001b[39mOneDrive\u001b[39m\u001b[39m\\\u001b[39m\u001b[39mDesktop\u001b[39m\u001b[39m\\\u001b[39m\u001b[39mpython\u001b[39m\u001b[39m\\\u001b[39m\u001b[39mMachine Learning\u001b[39m\u001b[39m\\\u001b[39m\u001b[39mDeep Learning\u001b[39m\u001b[39m\\\u001b[39m\u001b[39mattendence_project\u001b[39m\u001b[39m\\\u001b[39m\u001b[39mfacerecognition-52bb7-firebase-adminsdk-8nr3m-4cc8f35368.json\u001b[39m\u001b[39m\"\u001b[39m)\n\u001b[1;32m----> <a href='vscode-notebook-cell:/c%3A/Users/himan/OneDrive/Desktop/python/Machine%20Learning/Deep%20Learning/attendence_project/encodingGenerator.ipynb#X11sZmlsZQ%3D%3D?line=1'>2</a>\u001b[0m firebase_admin\u001b[39m.\u001b[39;49minitialize_app(cred,{\n\u001b[0;32m      <a href='vscode-notebook-cell:/c%3A/Users/himan/OneDrive/Desktop/python/Machine%20Learning/Deep%20Learning/attendence_project/encodingGenerator.ipynb#X11sZmlsZQ%3D%3D?line=2'>3</a>\u001b[0m     \u001b[39m'\u001b[39;49m\u001b[39mdatabaseURL\u001b[39;49m\u001b[39m'\u001b[39;49m:\u001b[39m\"\u001b[39;49m\u001b[39mhttps://facerecognition-52bb7-default-rtdb.firebaseio.com/\u001b[39;49m\u001b[39m\"\u001b[39;49m,\n\u001b[0;32m      <a href='vscode-notebook-cell:/c%3A/Users/himan/OneDrive/Desktop/python/Machine%20Learning/Deep%20Learning/attendence_project/encodingGenerator.ipynb#X11sZmlsZQ%3D%3D?line=3'>4</a>\u001b[0m     \u001b[39m'\u001b[39;49m\u001b[39mstorageBucket\u001b[39;49m\u001b[39m'\u001b[39;49m:\u001b[39m\"\u001b[39;49m\u001b[39mfacerecognition-52bb7.appspot.com\u001b[39;49m\u001b[39m\"\u001b[39;49m\n\u001b[0;32m      <a href='vscode-notebook-cell:/c%3A/Users/himan/OneDrive/Desktop/python/Machine%20Learning/Deep%20Learning/attendence_project/encodingGenerator.ipynb#X11sZmlsZQ%3D%3D?line=4'>5</a>\u001b[0m })\n",
      "File \u001b[1;32mc:\\Users\\himan\\anaconda3\\envs\\py310\\lib\\site-packages\\firebase_admin\\__init__.py:71\u001b[0m, in \u001b[0;36minitialize_app\u001b[1;34m(credential, options, name)\u001b[0m\n\u001b[0;32m     68\u001b[0m         \u001b[39mreturn\u001b[39;00m app\n\u001b[0;32m     70\u001b[0m \u001b[39mif\u001b[39;00m name \u001b[39m==\u001b[39m _DEFAULT_APP_NAME:\n\u001b[1;32m---> 71\u001b[0m     \u001b[39mraise\u001b[39;00m \u001b[39mValueError\u001b[39;00m((\n\u001b[0;32m     72\u001b[0m         \u001b[39m'\u001b[39m\u001b[39mThe default Firebase app already exists. This means you called \u001b[39m\u001b[39m'\u001b[39m\n\u001b[0;32m     73\u001b[0m         \u001b[39m'\u001b[39m\u001b[39minitialize_app() more than once without providing an app name as \u001b[39m\u001b[39m'\u001b[39m\n\u001b[0;32m     74\u001b[0m         \u001b[39m'\u001b[39m\u001b[39mthe second argument. In most cases you only need to call \u001b[39m\u001b[39m'\u001b[39m\n\u001b[0;32m     75\u001b[0m         \u001b[39m'\u001b[39m\u001b[39minitialize_app() once. But if you do want to initialize multiple \u001b[39m\u001b[39m'\u001b[39m\n\u001b[0;32m     76\u001b[0m         \u001b[39m'\u001b[39m\u001b[39mapps, pass a second argument to initialize_app() to give each app \u001b[39m\u001b[39m'\u001b[39m\n\u001b[0;32m     77\u001b[0m         \u001b[39m'\u001b[39m\u001b[39ma unique name.\u001b[39m\u001b[39m'\u001b[39m))\n\u001b[0;32m     79\u001b[0m \u001b[39mraise\u001b[39;00m \u001b[39mValueError\u001b[39;00m((\n\u001b[0;32m     80\u001b[0m     \u001b[39m'\u001b[39m\u001b[39mFirebase app named \u001b[39m\u001b[39m\"\u001b[39m\u001b[39m{0}\u001b[39;00m\u001b[39m\"\u001b[39m\u001b[39m already exists. This means you called \u001b[39m\u001b[39m'\u001b[39m\n\u001b[0;32m     81\u001b[0m     \u001b[39m'\u001b[39m\u001b[39minitialize_app() more than once with the same app name as the \u001b[39m\u001b[39m'\u001b[39m\n\u001b[0;32m     82\u001b[0m     \u001b[39m'\u001b[39m\u001b[39msecond argument. Make sure you provide a unique name every time \u001b[39m\u001b[39m'\u001b[39m\n\u001b[0;32m     83\u001b[0m     \u001b[39m'\u001b[39m\u001b[39myou call initialize_app().\u001b[39m\u001b[39m'\u001b[39m)\u001b[39m.\u001b[39mformat(name))\n",
      "\u001b[1;31mValueError\u001b[0m: The default Firebase app already exists. This means you called initialize_app() more than once without providing an app name as the second argument. In most cases you only need to call initialize_app() once. But if you do want to initialize multiple apps, pass a second argument to initialize_app() to give each app a unique name."
     ]
    }
   ],
   "source": [
    "cred = credentials.Certificate(r\"C:\\Users\\himan\\OneDrive\\Desktop\\python\\Machine Learning\\Deep Learning\\attendence_project\\facerecognition-52bb7-firebase-adminsdk-8nr3m-4cc8f35368.json\")\n",
    "firebase_admin.initialize_app(cred,{\n",
    "    'databaseURL':\"https://facerecognition-52bb7-default-rtdb.firebaseio.com/\",\n",
    "    'storageBucket':\"facerecognition-52bb7.appspot.com\"\n",
    "})"
   ]
  },
  {
   "cell_type": "code",
   "execution_count": 10,
   "metadata": {},
   "outputs": [
    {
     "ename": "ValueError",
     "evalue": "Storage bucket name not specified. Specify the bucket name via the \"storageBucket\" option when initializing the App, or specify the bucket name explicitly when calling the storage.bucket() function.",
     "output_type": "error",
     "traceback": [
      "\u001b[1;31m---------------------------------------------------------------------------\u001b[0m",
      "\u001b[1;31mValueError\u001b[0m                                Traceback (most recent call last)",
      "\u001b[1;32mc:\\Users\\himan\\OneDrive\\Desktop\\python\\Machine Learning\\Deep Learning\\attendence_project\\encodingGenerator.ipynb Cell 3\u001b[0m line \u001b[0;36m9\n\u001b[0;32m      <a href='vscode-notebook-cell:/c%3A/Users/himan/OneDrive/Desktop/python/Machine%20Learning/Deep%20Learning/attendence_project/encodingGenerator.ipynb#W1sZmlsZQ%3D%3D?line=6'>7</a>\u001b[0m studentId\u001b[39m.\u001b[39mappend(os\u001b[39m.\u001b[39mpath\u001b[39m.\u001b[39msplitext(path)[\u001b[39m0\u001b[39m])\n\u001b[0;32m      <a href='vscode-notebook-cell:/c%3A/Users/himan/OneDrive/Desktop/python/Machine%20Learning/Deep%20Learning/attendence_project/encodingGenerator.ipynb#W1sZmlsZQ%3D%3D?line=7'>8</a>\u001b[0m fileName \u001b[39m=\u001b[39m os\u001b[39m.\u001b[39mpath\u001b[39m.\u001b[39mjoin(imagesPath,path)\n\u001b[1;32m----> <a href='vscode-notebook-cell:/c%3A/Users/himan/OneDrive/Desktop/python/Machine%20Learning/Deep%20Learning/attendence_project/encodingGenerator.ipynb#W1sZmlsZQ%3D%3D?line=8'>9</a>\u001b[0m bucket \u001b[39m=\u001b[39m storage\u001b[39m.\u001b[39;49mbucket()\n\u001b[0;32m     <a href='vscode-notebook-cell:/c%3A/Users/himan/OneDrive/Desktop/python/Machine%20Learning/Deep%20Learning/attendence_project/encodingGenerator.ipynb#W1sZmlsZQ%3D%3D?line=9'>10</a>\u001b[0m blob \u001b[39m=\u001b[39m bucket\u001b[39m.\u001b[39mblob(fileName)\n\u001b[0;32m     <a href='vscode-notebook-cell:/c%3A/Users/himan/OneDrive/Desktop/python/Machine%20Learning/Deep%20Learning/attendence_project/encodingGenerator.ipynb#W1sZmlsZQ%3D%3D?line=10'>11</a>\u001b[0m blob\u001b[39m.\u001b[39mupload_from_fileName(fileName)\n",
      "File \u001b[1;32mc:\\Users\\himan\\anaconda3\\envs\\py310\\lib\\site-packages\\firebase_admin\\storage.py:52\u001b[0m, in \u001b[0;36mbucket\u001b[1;34m(name, app)\u001b[0m\n\u001b[0;32m     34\u001b[0m \u001b[39m\u001b[39m\u001b[39m\"\"\"Returns a handle to a Google Cloud Storage bucket.\u001b[39;00m\n\u001b[0;32m     35\u001b[0m \n\u001b[0;32m     36\u001b[0m \u001b[39mIf the name argument is not provided, uses the 'storageBucket' option specified when\u001b[39;00m\n\u001b[1;32m   (...)\u001b[0m\n\u001b[0;32m     49\u001b[0m \u001b[39m      or if the specified bucket name is not a valid string.\u001b[39;00m\n\u001b[0;32m     50\u001b[0m \u001b[39m\"\"\"\u001b[39;00m\n\u001b[0;32m     51\u001b[0m client \u001b[39m=\u001b[39m _utils\u001b[39m.\u001b[39mget_app_service(app, _STORAGE_ATTRIBUTE, _StorageClient\u001b[39m.\u001b[39mfrom_app)\n\u001b[1;32m---> 52\u001b[0m \u001b[39mreturn\u001b[39;00m client\u001b[39m.\u001b[39;49mbucket(name)\n",
      "File \u001b[1;32mc:\\Users\\himan\\anaconda3\\envs\\py310\\lib\\site-packages\\firebase_admin\\storage.py:74\u001b[0m, in \u001b[0;36m_StorageClient.bucket\u001b[1;34m(self, name)\u001b[0m\n\u001b[0;32m     72\u001b[0m bucket_name \u001b[39m=\u001b[39m name \u001b[39mif\u001b[39;00m name \u001b[39mis\u001b[39;00m \u001b[39mnot\u001b[39;00m \u001b[39mNone\u001b[39;00m \u001b[39melse\u001b[39;00m \u001b[39mself\u001b[39m\u001b[39m.\u001b[39m_default_bucket\n\u001b[0;32m     73\u001b[0m \u001b[39mif\u001b[39;00m bucket_name \u001b[39mis\u001b[39;00m \u001b[39mNone\u001b[39;00m:\n\u001b[1;32m---> 74\u001b[0m     \u001b[39mraise\u001b[39;00m \u001b[39mValueError\u001b[39;00m(\n\u001b[0;32m     75\u001b[0m         \u001b[39m'\u001b[39m\u001b[39mStorage bucket name not specified. Specify the bucket name via the \u001b[39m\u001b[39m'\u001b[39m\n\u001b[0;32m     76\u001b[0m         \u001b[39m'\u001b[39m\u001b[39m\"\u001b[39m\u001b[39mstorageBucket\u001b[39m\u001b[39m\"\u001b[39m\u001b[39m option when initializing the App, or specify the bucket \u001b[39m\u001b[39m'\u001b[39m\n\u001b[0;32m     77\u001b[0m         \u001b[39m'\u001b[39m\u001b[39mname explicitly when calling the storage.bucket() function.\u001b[39m\u001b[39m'\u001b[39m)\n\u001b[0;32m     78\u001b[0m \u001b[39mif\u001b[39;00m \u001b[39mnot\u001b[39;00m bucket_name \u001b[39mor\u001b[39;00m \u001b[39mnot\u001b[39;00m \u001b[39misinstance\u001b[39m(bucket_name, \u001b[39mstr\u001b[39m):\n\u001b[0;32m     79\u001b[0m     \u001b[39mraise\u001b[39;00m \u001b[39mValueError\u001b[39;00m(\n\u001b[0;32m     80\u001b[0m         \u001b[39m'\u001b[39m\u001b[39mInvalid storage bucket name: \u001b[39m\u001b[39m\"\u001b[39m\u001b[39m{0}\u001b[39;00m\u001b[39m\"\u001b[39m\u001b[39m. Bucket name must be a non-empty \u001b[39m\u001b[39m'\u001b[39m\n\u001b[0;32m     81\u001b[0m         \u001b[39m'\u001b[39m\u001b[39mstring.\u001b[39m\u001b[39m'\u001b[39m\u001b[39m.\u001b[39mformat(bucket_name))\n",
      "\u001b[1;31mValueError\u001b[0m: Storage bucket name not specified. Specify the bucket name via the \"storageBucket\" option when initializing the App, or specify the bucket name explicitly when calling the storage.bucket() function."
     ]
    }
   ],
   "source": [
    "imagesPath = 'images'\n",
    "imagePathList = os.listdir(imagesPath)\n",
    "img = []\n",
    "studentId = []\n",
    "for path in imagePathList:\n",
    "    img.append(cv2.imread(os.path.join(imagesPath,path)))\n",
    "    studentId.append(os.path.splitext(path)[0])\n",
    "    fileName = os.path.join(imagesPath,path)\n",
    "    bucket = storage.bucket()\n",
    "    blob = bucket.blob(fileName)\n",
    "    blob.upload_from_fileName(fileName)\n",
    "print(len(img))\n",
    "studentId"
   ]
  },
  {
   "cell_type": "code",
   "execution_count": 4,
   "metadata": {},
   "outputs": [],
   "source": [
    "def findEncoding(imageList):\n",
    "    encodeList = []\n",
    "    for img in imageList:\n",
    "        img = cv2.cvtColor(img,cv2.COLOR_BGR2RGB)\n",
    "        encode = face_recognition.face_encodings(img)[0]\n",
    "        encodeList.append(encode)\n",
    "    return encodeList\n"
   ]
  },
  {
   "cell_type": "code",
   "execution_count": 5,
   "metadata": {},
   "outputs": [],
   "source": [
    "encodeList = findEncoding(img)\n",
    "# gives encoding of all the images"
   ]
  },
  {
   "cell_type": "code",
   "execution_count": 6,
   "metadata": {},
   "outputs": [
    {
     "data": {
      "text/plain": [
       "[array([-0.14600915,  0.2021108 ,  0.05528624, -0.05538484, -0.06267004,\n",
       "        -0.06846974,  0.00765073, -0.07740621,  0.18486758, -0.05545449,\n",
       "         0.22666578, -0.04501561, -0.26421782, -0.07908874, -0.11393049,\n",
       "         0.18688996, -0.20314288, -0.10922995, -0.03030131, -0.09635524,\n",
       "         0.12781519,  0.09757359, -0.07217565,  0.06268115, -0.11707571,\n",
       "        -0.33268952, -0.0629249 , -0.07835247, -0.02796376, -0.10884637,\n",
       "         0.09440882,  0.14594725, -0.07089637,  0.01324717, -0.00228572,\n",
       "         0.0759429 ,  0.00288208, -0.02496706,  0.15844327,  0.05081044,\n",
       "        -0.1477951 ,  0.05669158,  0.02837424,  0.38223317,  0.09963652,\n",
       "        -0.0310037 ,  0.04259408, -0.06090344,  0.17859162, -0.22761187,\n",
       "        -0.04406758,  0.18229991,  0.0810724 ,  0.06276725,  0.10127308,\n",
       "        -0.12994201,  0.00158441,  0.17385796, -0.30347848,  0.05554645,\n",
       "         0.03747506, -0.10370088, -0.04131232, -0.07255375,  0.10361869,\n",
       "         0.13781483, -0.1445751 , -0.09176438,  0.13705322, -0.16427931,\n",
       "        -0.06433745,  0.04384115, -0.10013027, -0.1821083 , -0.26334584,\n",
       "         0.05057469,  0.36374846,  0.15022315, -0.13247816,  0.02556738,\n",
       "         0.00100236,  0.00128114,  0.09147715,  0.06236814, -0.13518265,\n",
       "         0.00532339, -0.1161182 ,  0.04766307,  0.12200002,  0.04844458,\n",
       "        -0.04081101,  0.26408157,  0.01894656,  0.02825432, -0.00341678,\n",
       "         0.03053482, -0.11102706, -0.01366345, -0.0796269 ,  0.0028874 ,\n",
       "        -0.00502518, -0.14318117, -0.02127691,  0.03334376, -0.14022511,\n",
       "         0.16142319,  0.02612787,  0.06080581, -0.11020699,  0.04309569,\n",
       "        -0.07966676,  0.07001939,  0.14374122, -0.22126177,  0.20202106,\n",
       "         0.14258742, -0.0205039 ,  0.16057304,  0.06115016,  0.00550554,\n",
       "        -0.05968297, -0.14271118, -0.08136832, -0.09587553,  0.07872097,\n",
       "        -0.01941504,  0.05944894, -0.02459796]),\n",
       " array([-0.17821343,  0.05418257,  0.06961584, -0.08593635,  0.01283836,\n",
       "        -0.09919271,  0.03929886, -0.03319522,  0.17732286, -0.03710643,\n",
       "         0.17025276,  0.00606584, -0.16017561, -0.04187294,  0.0405215 ,\n",
       "         0.03792046, -0.15000576, -0.12086714, -0.09673472, -0.1202387 ,\n",
       "         0.03571755,  0.00317906,  0.0417783 , -0.00680974, -0.07785626,\n",
       "        -0.36689037, -0.12081762, -0.20508334,  0.05779964, -0.05199908,\n",
       "         0.06784134, -0.01905656, -0.2105632 , -0.06892766, -0.03692779,\n",
       "         0.0348011 , -0.02750893, -0.05552042,  0.17001793, -0.00430128,\n",
       "        -0.1097754 ,  0.02514657,  0.02345691,  0.20331033,  0.20984641,\n",
       "         0.05466571, -0.00502606, -0.02484684,  0.06367711, -0.24535455,\n",
       "         0.09774359,  0.10657868,  0.03445483,  0.08737092,  0.07865478,\n",
       "        -0.13685356,  0.0580752 ,  0.00115724, -0.21964441,  0.04519346,\n",
       "         0.04266738, -0.11867949, -0.11313278, -0.00715666,  0.14885661,\n",
       "         0.16734938, -0.05305472, -0.13331425,  0.07312855, -0.18133141,\n",
       "         0.01648846,  0.05481366, -0.1188134 , -0.09471169, -0.2121191 ,\n",
       "         0.09988422,  0.38978305,  0.12301329, -0.08194293,  0.05938585,\n",
       "        -0.19501266,  0.01844362,  0.02572208, -0.0438729 , -0.11393606,\n",
       "        -0.04601403, -0.11113919,  0.0306778 ,  0.09492499,  0.00441539,\n",
       "        -0.07544251,  0.10497018, -0.08903252,  0.04072867,  0.03413967,\n",
       "         0.03016195, -0.13494855, -0.04893921, -0.06427778, -0.07965337,\n",
       "         0.08134771, -0.09149016, -0.03633698,  0.05542347, -0.21639299,\n",
       "         0.11440387, -0.0252539 , -0.05128154,  0.01296325,  0.02036779,\n",
       "        -0.03316309, -0.00314339,  0.10959263, -0.1831561 ,  0.24603386,\n",
       "         0.19359639, -0.04832872,  0.20620033,  0.0487171 ,  0.05734389,\n",
       "        -0.10905742,  0.03555465, -0.15268056, -0.04696379, -0.00741911,\n",
       "         0.15130846,  0.05576078,  0.02554191]),\n",
       " array([-0.11561336,  0.09248927,  0.01544112, -0.0306902 , -0.05062703,\n",
       "        -0.01535604, -0.11573602, -0.03472118,  0.14633913, -0.10857125,\n",
       "         0.06854236, -0.04917174, -0.16807134, -0.0867718 , -0.06247979,\n",
       "         0.10871653, -0.15384939, -0.154723  , -0.04202917, -0.09510969,\n",
       "        -0.01102049,  0.00599188,  0.00379953,  0.0282062 , -0.15845704,\n",
       "        -0.31180316, -0.0546828 , -0.13664719, -0.00182413, -0.02390007,\n",
       "        -0.05536374,  0.08207423, -0.17668825, -0.04712038,  0.02793307,\n",
       "         0.09679361,  0.05441251,  0.02605358,  0.15764581,  0.02136292,\n",
       "        -0.13938914, -0.02079092,  0.07790788,  0.27441841,  0.18357575,\n",
       "         0.09039117, -0.00710489, -0.06302147,  0.15136364, -0.14232123,\n",
       "         0.05123892,  0.19382836,  0.03875622,  0.05485716,  0.07027362,\n",
       "        -0.08863731,  0.07928462,  0.07083121, -0.14349809,  0.04100408,\n",
       "         0.06047049,  0.02718344, -0.04299176, -0.00155399,  0.24407165,\n",
       "         0.09522815, -0.06220256, -0.17657258,  0.18806793, -0.16890992,\n",
       "        -0.04225211,  0.06486037, -0.10757598, -0.1171109 , -0.19864452,\n",
       "         0.03526547,  0.42465681,  0.16666041, -0.12639846,  0.06656957,\n",
       "        -0.05763296, -0.12684937,  0.13976829,  0.08481628, -0.11123464,\n",
       "        -0.00440778, -0.0365535 ,  0.01639917,  0.24929982,  0.06901865,\n",
       "        -0.04380025,  0.10210239,  0.03314639,  0.00798037,  0.03154471,\n",
       "        -0.03964485, -0.12349685,  0.03993626, -0.17554259, -0.06075479,\n",
       "         0.05417293, -0.04647768, -0.0245707 ,  0.12125231, -0.12237143,\n",
       "         0.09935648,  0.01131711, -0.02607316, -0.02568838,  0.10343117,\n",
       "        -0.1250878 , -0.05705258,  0.13761522, -0.15193385,  0.1607579 ,\n",
       "         0.10557219,  0.09217165,  0.08716022,  0.12328106,  0.09100915,\n",
       "         0.04383535,  0.01706225, -0.14157397, -0.10626844,  0.06674787,\n",
       "        -0.04735658,  0.10396086,  0.01500178])]"
      ]
     },
     "execution_count": 6,
     "metadata": {},
     "output_type": "execute_result"
    }
   ],
   "source": [
    "encodeList"
   ]
  },
  {
   "cell_type": "code",
   "execution_count": 7,
   "metadata": {},
   "outputs": [],
   "source": [
    "encodeListWithIds = [encodeList,studentId]"
   ]
  },
  {
   "cell_type": "code",
   "execution_count": 9,
   "metadata": {},
   "outputs": [],
   "source": [
    "file = open('EncodeFile.p','wb')\n",
    "pickle.dump(encodeListWithIds,file)\n",
    "file.close()"
   ]
  },
  {
   "cell_type": "code",
   "execution_count": null,
   "metadata": {},
   "outputs": [],
   "source": []
  }
 ],
 "metadata": {
  "kernelspec": {
   "display_name": "py310",
   "language": "python",
   "name": "python3"
  },
  "language_info": {
   "codemirror_mode": {
    "name": "ipython",
    "version": 3
   },
   "file_extension": ".py",
   "mimetype": "text/x-python",
   "name": "python",
   "nbconvert_exporter": "python",
   "pygments_lexer": "ipython3",
   "version": "3.10.13"
  }
 },
 "nbformat": 4,
 "nbformat_minor": 2
}
